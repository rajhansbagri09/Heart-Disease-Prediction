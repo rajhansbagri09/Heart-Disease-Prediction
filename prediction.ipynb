{
 "cells": [
  {
   "cell_type": "markdown",
   "id": "75b508ca",
   "metadata": {},
   "source": [
    "10 year rick of coronary heart disease prediction"
   ]
  },
  {
   "cell_type": "code",
   "execution_count": 164,
   "id": "b5292e2a",
   "metadata": {},
   "outputs": [],
   "source": [
    "import numpy as np \n",
    "import pandas as pd\n",
    "import sklearn      \n",
    "from sklearn.model_selection import train_test_split\n",
    "from sklearn.impute import SimpleImputer\n",
    "from sklearn.preprocessing import StandardScaler\n",
    "from sklearn.metrics import confusion_matrix, classification_report ,accuracy_score\n",
    "from sklearn.compose import ColumnTransformer\n",
    "from sklearn.pipeline import Pipeline"
   ]
  },
  {
   "cell_type": "code",
   "execution_count": 165,
   "id": "b880eef2",
   "metadata": {},
   "outputs": [
    {
     "name": "stdout",
     "output_type": "stream",
     "text": [
      "<class 'pandas.core.frame.DataFrame'>\n",
      "RangeIndex: 4240 entries, 0 to 4239\n",
      "Data columns (total 15 columns):\n",
      " #   Column           Non-Null Count  Dtype  \n",
      "---  ------           --------------  -----  \n",
      " 0   male             4240 non-null   int64  \n",
      " 1   age              4240 non-null   int64  \n",
      " 2   currentSmoker    4240 non-null   int64  \n",
      " 3   cigsPerDay       4211 non-null   float64\n",
      " 4   BPMeds           4187 non-null   float64\n",
      " 5   prevalentStroke  4240 non-null   int64  \n",
      " 6   prevalentHyp     4240 non-null   int64  \n",
      " 7   diabetes         4240 non-null   int64  \n",
      " 8   totChol          4190 non-null   float64\n",
      " 9   sysBP            4240 non-null   float64\n",
      " 10  diaBP            4240 non-null   float64\n",
      " 11  BMI              4221 non-null   float64\n",
      " 12  heartRate        4239 non-null   float64\n",
      " 13  glucose          3852 non-null   float64\n",
      " 14  TenYearCHD       4240 non-null   int64  \n",
      "dtypes: float64(8), int64(7)\n",
      "memory usage: 497.0 KB\n"
     ]
    },
    {
     "data": {
      "text/plain": [
       "(   male  age  currentSmoker  cigsPerDay  BPMeds  prevalentStroke  \\\n",
       " 0     1   39              0         0.0     0.0                0   \n",
       " 1     0   46              0         0.0     0.0                0   \n",
       " 2     1   48              1        20.0     0.0                0   \n",
       " 3     0   61              1        30.0     0.0                0   \n",
       " 4     0   46              1        23.0     0.0                0   \n",
       " \n",
       "    prevalentHyp  diabetes  totChol  sysBP  diaBP    BMI  heartRate  glucose  \\\n",
       " 0             0         0    195.0  106.0   70.0  26.97       80.0     77.0   \n",
       " 1             0         0    250.0  121.0   81.0  28.73       95.0     76.0   \n",
       " 2             0         0    245.0  127.5   80.0  25.34       75.0     70.0   \n",
       " 3             1         0    225.0  150.0   95.0  28.58       65.0    103.0   \n",
       " 4             0         0    285.0  130.0   84.0  23.10       85.0     85.0   \n",
       " \n",
       "    TenYearCHD  \n",
       " 0           0  \n",
       " 1           0  \n",
       " 2           0  \n",
       " 3           1  \n",
       " 4           0  ,\n",
       " (4240, 15))"
      ]
     },
     "execution_count": 165,
     "metadata": {},
     "output_type": "execute_result"
    }
   ],
   "source": [
    "df=pd.read_csv(\"datasets.csv\")\n",
    "df.drop([\"education\"],axis=1,inplace=True)\n",
    "df.info(),df.describe()\n",
    "df.head(),df.shape"
   ]
  },
  {
   "cell_type": "code",
   "execution_count": 166,
   "id": "32823502",
   "metadata": {},
   "outputs": [
    {
     "data": {
      "text/plain": [
       "male                 0\n",
       "age                  0\n",
       "currentSmoker        0\n",
       "cigsPerDay          29\n",
       "BPMeds              53\n",
       "prevalentStroke      0\n",
       "prevalentHyp         0\n",
       "diabetes             0\n",
       "totChol             50\n",
       "sysBP                0\n",
       "diaBP                0\n",
       "BMI                 19\n",
       "heartRate            1\n",
       "glucose            388\n",
       "TenYearCHD           0\n",
       "dtype: int64"
      ]
     },
     "execution_count": 166,
     "metadata": {},
     "output_type": "execute_result"
    }
   ],
   "source": [
    "df.isnull().sum()"
   ]
  },
  {
   "cell_type": "code",
   "execution_count": 167,
   "id": "85b88a76",
   "metadata": {},
   "outputs": [
    {
     "data": {
      "text/plain": [
       "['cigsPerDay', 'BPMeds', 'totChol', 'BMI', 'glucose', 'heartRate']"
      ]
     },
     "execution_count": 167,
     "metadata": {},
     "output_type": "execute_result"
    }
   ],
   "source": [
    "col_have_null=[\"cigsPerDay\",\"BPMeds\",\"totChol\",\"BMI\",\"glucose\",\"heartRate\"]\n",
    "col_have_null"
   ]
  },
  {
   "cell_type": "code",
   "execution_count": 168,
   "id": "50e6cfda",
   "metadata": {},
   "outputs": [],
   "source": [
    "si = SimpleImputer(strategy=\"median\")   # ✅ This works\n",
    "\n",
    "\n",
    "for col in col_have_null:\n",
    "    df[col]=si.fit_transform(df[[col]])"
   ]
  },
  {
   "cell_type": "markdown",
   "id": "7c164b36",
   "metadata": {},
   "source": [
    "df[col_have_null] = ss.fit_transform(df[col_have_null])\n",
    "also do with this and also with fillna"
   ]
  },
  {
   "cell_type": "code",
   "execution_count": 169,
   "id": "800fab4c",
   "metadata": {},
   "outputs": [
    {
     "data": {
      "text/plain": [
       "male               0\n",
       "age                0\n",
       "currentSmoker      0\n",
       "cigsPerDay         0\n",
       "BPMeds             0\n",
       "prevalentStroke    0\n",
       "prevalentHyp       0\n",
       "diabetes           0\n",
       "totChol            0\n",
       "sysBP              0\n",
       "diaBP              0\n",
       "BMI                0\n",
       "heartRate          0\n",
       "glucose            0\n",
       "TenYearCHD         0\n",
       "dtype: int64"
      ]
     },
     "execution_count": 169,
     "metadata": {},
     "output_type": "execute_result"
    }
   ],
   "source": [
    "df.isnull().sum()"
   ]
  },
  {
   "cell_type": "code",
   "execution_count": 170,
   "id": "f2d8b37e",
   "metadata": {},
   "outputs": [
    {
     "data": {
      "text/plain": [
       "TenYearCHD\n",
       "0    3596\n",
       "1     644\n",
       "Name: count, dtype: int64"
      ]
     },
     "execution_count": 170,
     "metadata": {},
     "output_type": "execute_result"
    }
   ],
   "source": [
    "df[\"TenYearCHD\"].value_counts()"
   ]
  },
  {
   "cell_type": "code",
   "execution_count": 171,
   "id": "ed27561e",
   "metadata": {},
   "outputs": [],
   "source": [
    "from sklearn.utils import resample\n",
    "\n",
    "df_maj=df[df[\"TenYearCHD\"]==0]\n",
    "df_min=df[df[\"TenYearCHD\"]==1]\n",
    "\n",
    "\n",
    "df_min_up= resample(df_min,\n",
    "                    replace=True,\n",
    "                    n_samples=len(df_maj),\n",
    "                    random_state=42)\n",
    "\n",
    "df_balanced=pd.concat([df_maj,df_min_up])"
   ]
  },
  {
   "cell_type": "code",
   "execution_count": 172,
   "id": "d548a453",
   "metadata": {},
   "outputs": [
    {
     "data": {
      "text/plain": [
       "TenYearCHD\n",
       "0    3596\n",
       "1    3596\n",
       "Name: count, dtype: int64"
      ]
     },
     "execution_count": 172,
     "metadata": {},
     "output_type": "execute_result"
    }
   ],
   "source": [
    "df_balanced[\"TenYearCHD\"].value_counts()"
   ]
  },
  {
   "cell_type": "markdown",
   "id": "2f618bce",
   "metadata": {},
   "source": [
    "make them balance....by SMOTE"
   ]
  },
  {
   "cell_type": "code",
   "execution_count": 173,
   "id": "fd874dd7",
   "metadata": {},
   "outputs": [
    {
     "data": {
      "text/plain": [
       "((5753, 14), (1439, 14))"
      ]
     },
     "execution_count": 173,
     "metadata": {},
     "output_type": "execute_result"
    }
   ],
   "source": [
    "x=df_balanced.drop([\"TenYearCHD\"],axis=1)\n",
    "y=df_balanced[\"TenYearCHD\"]\n",
    "#split train test\n",
    "x_train, x_test, y_train, y_test=train_test_split(x,y,test_size=0.2,random_state=42)\n",
    "x_train.shape,x_test.shape"
   ]
  },
  {
   "cell_type": "markdown",
   "id": "522aeaab",
   "metadata": {},
   "source": [
    "Scaling"
   ]
  },
  {
   "cell_type": "code",
   "execution_count": 174,
   "id": "5cca4df7",
   "metadata": {},
   "outputs": [],
   "source": [
    "ss=StandardScaler()\n",
    "\n",
    "x_train_scale=ss.fit_transform(x_train)\n",
    "x_test_scale=ss.transform(x_test)\n",
    "\n"
   ]
  },
  {
   "cell_type": "markdown",
   "id": "5f9af447",
   "metadata": {},
   "source": [
    "train by RANDOM FOREST"
   ]
  },
  {
   "cell_type": "code",
   "execution_count": 175,
   "id": "6f1b81e8",
   "metadata": {},
   "outputs": [],
   "source": [
    "from sklearn.ensemble import RandomForestClassifier\n",
    "\n",
    "rfc=RandomForestClassifier()\n",
    "rfc.fit(x_train_scale,y_train)\n",
    "y_pred=rfc.predict(x_test_scale)"
   ]
  },
  {
   "cell_type": "markdown",
   "id": "21b668ad",
   "metadata": {},
   "source": [
    "accuracy confusion matrix "
   ]
  },
  {
   "cell_type": "code",
   "execution_count": 176,
   "id": "b01b07b8",
   "metadata": {},
   "outputs": [
    {
     "data": {
      "text/plain": [
       "0.970813064628214"
      ]
     },
     "execution_count": 176,
     "metadata": {},
     "output_type": "execute_result"
    }
   ],
   "source": [
    "accuracy_score(y_test,y_pred)"
   ]
  },
  {
   "cell_type": "code",
   "execution_count": 177,
   "id": "0fd98529",
   "metadata": {},
   "outputs": [
    {
     "data": {
      "text/plain": [
       "array([[698,  37],\n",
       "       [  5, 699]])"
      ]
     },
     "execution_count": 177,
     "metadata": {},
     "output_type": "execute_result"
    }
   ],
   "source": [
    "cm=confusion_matrix(y_test,y_pred)\n",
    "cm"
   ]
  },
  {
   "cell_type": "code",
   "execution_count": 178,
   "id": "5f696d76",
   "metadata": {},
   "outputs": [
    {
     "data": {
      "text/plain": [
       "'              precision    recall  f1-score   support\\n\\n           0       0.99      0.95      0.97       735\\n           1       0.95      0.99      0.97       704\\n\\n    accuracy                           0.97      1439\\n   macro avg       0.97      0.97      0.97      1439\\nweighted avg       0.97      0.97      0.97      1439\\n'"
      ]
     },
     "execution_count": 178,
     "metadata": {},
     "output_type": "execute_result"
    }
   ],
   "source": [
    "classification_report(y_test,y_pred)"
   ]
  },
  {
   "cell_type": "markdown",
   "id": "17d21ad2",
   "metadata": {},
   "source": [
    "match prediction of 1 index"
   ]
  },
  {
   "cell_type": "code",
   "execution_count": 179,
   "id": "53dee206",
   "metadata": {},
   "outputs": [
    {
     "name": "stdout",
     "output_type": "stream",
     "text": [
      "Predicted Output: 1\n",
      "Actual output: 1\n"
     ]
    }
   ],
   "source": [
    "print(\"Predicted Output:\",rfc.predict(x_test_scale[1].reshape(1,-1))[0])\n",
    "print(\"Actual output:\", y_test.iloc[1])"
   ]
  },
  {
   "cell_type": "markdown",
   "id": "2ff689ec",
   "metadata": {},
   "source": [
    "Visualization of Confusion Matrix"
   ]
  },
  {
   "cell_type": "code",
   "execution_count": 183,
   "id": "7f2b6f8c",
   "metadata": {},
   "outputs": [
    {
     "data": {
      "image/png": "[encoded data removed]",
      "text/plain": [
       "<Figure size 600x400 with 2 Axes>"
      ]
     },
     "metadata": {},
     "output_type": "display_data"
    }
   ],
   "source": [
    "import matplotlib.pyplot as plt\n",
    "import seaborn as sns\n",
    "\n",
    "\n",
    "\n",
    "# Plotting heatmap\n",
    "plt.figure(figsize=(6,4))\n",
    "sns.heatmap(cm, annot=True, fmt='d', cmap='Blues', xticklabels=[0,1], yticklabels=[0,1])\n",
    "plt.xlabel('Predicted')\n",
    "plt.ylabel('Actual')\n",
    "plt.title('Confusion Matrix: y_test vs y_pred')\n",
    "plt.show()\n",
    "\n"
   ]
  },
  {
   "cell_type": "markdown",
   "id": "9f190b1c",
   "metadata": {},
   "source": [
    "Save model and Scaler"
   ]
  },
  {
   "cell_type": "code",
   "execution_count": 184,
   "id": "f0b2871a",
   "metadata": {},
   "outputs": [],
   "source": [
    "import pickle\n",
    "\n",
    "pickle.dump(rfc,open(\"Heart disease Prediction.pkl\",\"wb\"))\n",
    "pickle.dump(ss,open(\"Scaler.pkl\",\"wb\"))"
   ]
  }
 ],
 "metadata": {
  "kernelspec": {
   "display_name": "Python 3",
   "language": "python",
   "name": "python3"
  },
  "language_info": {
   "codemirror_mode": {
    "name": "ipython",
    "version": 3
   },
   "file_extension": ".py",
   "mimetype": "text/x-python",
   "name": "python",
   "nbconvert_exporter": "python",
   "pygments_lexer": "ipython3",
   "version": "3.12.1"
  }
 },
 "nbformat": 4,
 "nbformat_minor": 5
}
